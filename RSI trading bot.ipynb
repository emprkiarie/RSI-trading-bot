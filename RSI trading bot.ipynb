{
 "cells": [
  {
   "cell_type": "code",
   "execution_count": null,
   "id": "734881ef",
   "metadata": {},
   "outputs": [],
   "source": [
    "pip install python-binance"
   ]
  },
  {
   "cell_type": "code",
   "execution_count": null,
   "id": "838ce68b",
   "metadata": {},
   "outputs": [],
   "source": [
    "pip install TA-lib"
   ]
  },
  {
   "cell_type": "code",
   "execution_count": null,
   "id": "0d470e22",
   "metadata": {},
   "outputs": [],
   "source": [
    "import websockets\n",
    "import json\n",
    "import pprint\n",
    "import talib\n",
    "import numpy"
   ]
  },
  {
   "cell_type": "code",
   "execution_count": null,
   "id": "02979e63",
   "metadata": {},
   "outputs": [],
   "source": [
    "from binance.client import Client\n",
    "from binance.enums import *"
   ]
  },
  {
   "cell_type": "code",
   "execution_count": null,
   "id": "c3d1eb3a",
   "metadata": {},
   "outputs": [],
   "source": [
    "SOCKET = \"wss://stream.binance.com:9443/ws/btcusdt@kline_1m\"\n",
    "\n",
    "API_KEY = \"dV2P45YmZQ3rgQQGpFSI9aqYklLY0ke3isesjtLdy9oikJHt8KVCTCG9HRwm0i8Q\"\n",
    "API_SECRET = \"4xTxPTdcf4Ia4blnG7TXDBAaJHsi6Qd85UoYK5C6owAFHhaqFy4WfutNjxX37cTz\"\n",
    "RSI_PERIOD = 14\n",
    "RSI_OVERBOUGHT  = 70\n",
    "RSI_OVERSOLD = 30\n",
    "TRADE_SYMBOL = 'BTCUSDT'\n",
    "TRADE_QUANTITY = 0.005\n",
    "\n",
    "closes = []\n",
    "in_position = False"
   ]
  },
  {
   "cell_type": "code",
   "execution_count": null,
   "id": "2204bd4c",
   "metadata": {},
   "outputs": [],
   "source": [
    "client = Client(config.API_KEY, config.API_SECRET)"
   ]
  },
  {
   "cell_type": "code",
   "execution_count": null,
   "id": "b4aa2f7a",
   "metadata": {},
   "outputs": [],
   "source": [
    "def order(side, quantity, symbol, order_type=ORDER_TYPE_MARKET):\n",
    "    try:\n",
    "        print(\"sending order\")\n",
    "        order = client.create_order(symbol=symbol, side=side, type=order_type, quantity=quantity)\n",
    "        print(order)\n",
    "    except Exception as e:\n",
    "        print(\"an exception occured - {}\".format(e))\n",
    "        return False\n",
    "    \n",
    "    return True"
   ]
  },
  {
   "cell_type": "code",
   "execution_count": null,
   "id": "c27196f8",
   "metadata": {},
   "outputs": [],
   "source": [
    "\n",
    "def on_open(ws):\n",
    "    print('opened connection')\n",
    "    \n",
    "def on_close(ws):\n",
    "    print('closed connection')\n",
    "    \n",
    "def on_message(ws, message):\n",
    "    global closes, in_position\n",
    "    \n",
    "    print('received message')\n",
    "    json_message = json.loads(message)\n",
    "    pprint.pprint(json_message)\n",
    "    \n",
    "    candle = json_message['k']\n",
    "    \n",
    "    is_candle_closed = candle['x']\n",
    "    close = candle['c']\n",
    "    \n",
    "    if is_candle_closed:\n",
    "        print(\"candle closed at {}\".format(close))\n",
    "        closes.append(float(close))\n",
    "        print(\"closes\")\n",
    "        print(closes)\n",
    "        \n",
    "    if len(closes) > RSI_PERIOD:\n",
    "        np_closes = numpy.array(closes)\n",
    "        rsi = talib.RSI(np_closes, RSI_PERIOD)\n",
    "        print(\"all rsis calculated so far\")\n",
    "        print(rsi)\n",
    "        last_rsi = rsi[-1]\n",
    "        print(\"the current rsi is {}\".format(last_rsi))\n",
    "        \n",
    "        \n",
    "    if last_rsi > RSI_OVERBOUGHT:\n",
    "        if in_position:\n",
    "            print(\"Overbought! Sell! Sell!\")\n",
    "            #put binance sell logic here\n",
    "            order_succeeded = order(SIDE_SELL, TRADE_QUANTITY, TRADE_SYMBOL)\n",
    "            if order_succeeded:\n",
    "                in_position = False\n",
    "                \n",
    "        else:\n",
    "            print(\"It is overbought, we own none. Nothing to do.\")\n",
    "            \n",
    "            \n",
    "    if last_rsi < RSI_OVERSOLD:\n",
    "        if in_position:\n",
    "            print(\"It is oversold! Buy! Buy!\")\n",
    "            #put binance buy logic here\n",
    "            order_succeeded = order(SIDE_BUY, TRADE_QUANTITY, TRADE_SYMBOL)\n",
    "            if order_succeeded:\n",
    "                in_position = True\n",
    "                \n",
    "                \n",
    "ws =  websocket.WebSocketApp(SOCKET, on_open=on_open, on_close=on_close, on_message=on_message)\n",
    "ws.run_forever()\n"
   ]
  },
  {
   "cell_type": "code",
   "execution_count": null,
   "id": "a9e89599",
   "metadata": {},
   "outputs": [],
   "source": []
  }
 ],
 "metadata": {
  "kernelspec": {
   "display_name": "Python 3 (ipykernel)",
   "language": "python",
   "name": "python3"
  },
  "language_info": {
   "codemirror_mode": {
    "name": "ipython",
    "version": 3
   },
   "file_extension": ".py",
   "mimetype": "text/x-python",
   "name": "python",
   "nbconvert_exporter": "python",
   "pygments_lexer": "ipython3",
   "version": "3.9.13"
  }
 },
 "nbformat": 4,
 "nbformat_minor": 5
}
